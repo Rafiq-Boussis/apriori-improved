{
 "cells": [
  {
   "cell_type": "code",
   "execution_count": 878,
   "metadata": {},
   "outputs": [],
   "source": [
    "import pandas as pd\n",
    "import numpy as np\n",
    "from itertools import combinations\n",
    "from collections import defaultdict\n",
    "import math"
   ]
  },
  {
   "cell_type": "code",
   "execution_count": 879,
   "metadata": {},
   "outputs": [],
   "source": [
    "df = pd.read_csv(\"test1.csv\", low_memory=False)\n"
   ]
  },
  {
   "cell_type": "code",
   "execution_count": 880,
   "metadata": {},
   "outputs": [
    {
     "data": {
      "text/html": [
       "<div>\n",
       "<style scoped>\n",
       "    .dataframe tbody tr th:only-of-type {\n",
       "        vertical-align: middle;\n",
       "    }\n",
       "\n",
       "    .dataframe tbody tr th {\n",
       "        vertical-align: top;\n",
       "    }\n",
       "\n",
       "    .dataframe thead th {\n",
       "        text-align: right;\n",
       "    }\n",
       "</style>\n",
       "<table border=\"1\" class=\"dataframe\">\n",
       "  <thead>\n",
       "    <tr style=\"text-align: right;\">\n",
       "      <th></th>\n",
       "      <th>handphone</th>\n",
       "      <th>laptop</th>\n",
       "      <th>charger</th>\n",
       "      <th>powerbank</th>\n",
       "      <th>tablet</th>\n",
       "    </tr>\n",
       "  </thead>\n",
       "  <tbody>\n",
       "    <tr>\n",
       "      <th>0</th>\n",
       "      <td>t</td>\n",
       "      <td>t</td>\n",
       "      <td>NaN</td>\n",
       "      <td>NaN</td>\n",
       "      <td>NaN</td>\n",
       "    </tr>\n",
       "    <tr>\n",
       "      <th>1</th>\n",
       "      <td>t</td>\n",
       "      <td>t</td>\n",
       "      <td>t</td>\n",
       "      <td>NaN</td>\n",
       "      <td>NaN</td>\n",
       "    </tr>\n",
       "    <tr>\n",
       "      <th>2</th>\n",
       "      <td>t</td>\n",
       "      <td>t</td>\n",
       "      <td>t</td>\n",
       "      <td>t</td>\n",
       "      <td>NaN</td>\n",
       "    </tr>\n",
       "    <tr>\n",
       "      <th>3</th>\n",
       "      <td>t</td>\n",
       "      <td>t</td>\n",
       "      <td>NaN</td>\n",
       "      <td>NaN</td>\n",
       "      <td>t</td>\n",
       "    </tr>\n",
       "    <tr>\n",
       "      <th>4</th>\n",
       "      <td>t</td>\n",
       "      <td>NaN</td>\n",
       "      <td>t</td>\n",
       "      <td>NaN</td>\n",
       "      <td>t</td>\n",
       "    </tr>\n",
       "  </tbody>\n",
       "</table>\n",
       "</div>"
      ],
      "text/plain": [
       "  handphone laptop charger powerbank tablet\n",
       "0         t      t     NaN       NaN    NaN\n",
       "1         t      t       t       NaN    NaN\n",
       "2         t      t       t         t    NaN\n",
       "3         t      t     NaN       NaN      t\n",
       "4         t    NaN       t       NaN      t"
      ]
     },
     "execution_count": 880,
     "metadata": {},
     "output_type": "execute_result"
    }
   ],
   "source": [
    "df.head()"
   ]
  },
  {
   "cell_type": "code",
   "execution_count": 881,
   "metadata": {},
   "outputs": [
    {
     "data": {
      "text/plain": [
       "{'handphone': 1, 'laptop': 2, 'charger': 3, 'powerbank': 4, 'tablet': 5}"
      ]
     },
     "execution_count": 881,
     "metadata": {},
     "output_type": "execute_result"
    }
   ],
   "source": [
    "item_list = list(df.columns)\n",
    "item_dict = dict()\n",
    "\n",
    "for i, item in enumerate(item_list):\n",
    "    item_dict[item] = i + 1\n",
    "\n",
    "item_dict"
   ]
  },
  {
   "cell_type": "code",
   "execution_count": 882,
   "metadata": {},
   "outputs": [
    {
     "data": {
      "text/plain": [
       "[{1, 2},\n",
       " {1, 2, 3},\n",
       " {1, 2, 3, 4},\n",
       " {1, 2, 5},\n",
       " {1, 3, 5},\n",
       " {4, 5},\n",
       " {1, 2, 3, 5},\n",
       " {1, 3},\n",
       " {1, 4},\n",
       " {2, 3, 4}]"
      ]
     },
     "execution_count": 882,
     "metadata": {},
     "output_type": "execute_result"
    }
   ],
   "source": [
    "transactions = list()\n",
    "\n",
    "for i, row in df.iterrows():\n",
    "    transaction = set()\n",
    "    \n",
    "    for item in item_dict:\n",
    "        if row[item] == 't':\n",
    "            transaction.add(item_dict[item])\n",
    "    transactions.append(transaction)\n",
    "    \n",
    "transactions"
   ]
  },
  {
   "cell_type": "code",
   "execution_count": 883,
   "metadata": {},
   "outputs": [],
   "source": [
    "def get_support(transactions, item_set):\n",
    "    match_count = 0\n",
    "    for transaction in transactions:\n",
    "        if item_set.issubset(transaction):\n",
    "            match_count += 1\n",
    "            \n",
    "    return float(match_count/len(transactions))"
   ]
  },
  {
   "cell_type": "code",
   "execution_count": 884,
   "metadata": {},
   "outputs": [],
   "source": [
    "def optimized_get_support(transactions, item_set, min_item, dict_TID):\n",
    "    match_count = 0\n",
    "    min_item_transactions = dict_TID[min_item]\n",
    "    print(min_item_transactions)\n",
    "    for transaction in min_item_transactions:\n",
    "        if item_set.issubset(transactions[transaction - 1]):\n",
    "            match_count += 1\n",
    "    return float(match_count/len(transactions))\n",
    "    "
   ]
  },
  {
   "cell_type": "code",
   "execution_count": 885,
   "metadata": {},
   "outputs": [],
   "source": [
    "def get_TID_item(transactions, item):\n",
    "    TID = 1\n",
    "    list_TID = []\n",
    "    for transaction in transactions:\n",
    "        if item.issubset(transaction):\n",
    "            list_TID.append(TID)\n",
    "        \n",
    "        TID += 1\n",
    "    return list_TID"
   ]
  },
  {
   "cell_type": "code",
   "execution_count": 886,
   "metadata": {},
   "outputs": [],
   "source": [
    "def find_least_support(level, item_set, dict_TID, transactions):\n",
    "    min_item_supp = 1.0\n",
    "    for index in range(0, level):\n",
    "        item_id = item_set[index]   \n",
    "        item_supp = float(len(dict_TID[item_id]) / len(transactions))\n",
    "        if item_supp < min_item_supp:\n",
    "            min_item_supp = item_supp\n",
    "            min_item = item_id\n",
    "    return min_item\n",
    "\n",
    "        \n"
   ]
  },
  {
   "cell_type": "code",
   "execution_count": 887,
   "metadata": {},
   "outputs": [],
   "source": [
    "def self_join(frequent_item_sets_per_level, level):\n",
    "    current_level_candidates = list()\n",
    "    last_level_items = frequent_item_sets_per_level[level - 1]\n",
    "    \n",
    "    if len(last_level_items) == 0:\n",
    "        return current_level_candidates\n",
    "    \n",
    "    for i in range(len(last_level_items)):\n",
    "        for j in range(i+1, len(last_level_items)):\n",
    "            itemset_i = last_level_items[i][0]\n",
    "            itemset_j = last_level_items[j][0]\n",
    "            union_set = itemset_i.union(itemset_j)\n",
    "            \n",
    "            if union_set not in current_level_candidates and len(union_set) == level:\n",
    "                current_level_candidates.append(union_set)\n",
    "                \n",
    "    return current_level_candidates"
   ]
  },
  {
   "cell_type": "code",
   "execution_count": 888,
   "metadata": {},
   "outputs": [],
   "source": [
    "def get_single_drop_subsets(item_set):\n",
    "    single_drop_subsets = list()\n",
    "    for item in item_set:\n",
    "        temp = item_set.copy()\n",
    "        temp.remove(item)\n",
    "        single_drop_subsets.append(temp)\n",
    "        \n",
    "    return single_drop_subsets\n",
    "\n",
    "def is_valid_set(item_set, prev_level_sets):\n",
    "    single_drop_subsets = get_single_drop_subsets(item_set)\n",
    "    \n",
    "    for single_drop_set in single_drop_subsets:\n",
    "        if single_drop_set not in prev_level_sets:\n",
    "            return False\n",
    "    return True\n",
    "\n",
    "def pruning(frequent_item_sets_per_level, level, candidate_set):\n",
    "    post_pruning_set = list()\n",
    "    if len(candidate_set) == 0:\n",
    "        return post_pruning_set\n",
    "    \n",
    "    prev_level_sets = list()\n",
    "    for item_set, _ in frequent_item_sets_per_level[level - 1]:\n",
    "        prev_level_sets.append(item_set)\n",
    "        \n",
    "    for item_set in candidate_set:\n",
    "        if is_valid_set(item_set, prev_level_sets):\n",
    "            post_pruning_set.append(item_set)\n",
    "            \n",
    "    return post_pruning_set"
   ]
  },
  {
   "cell_type": "code",
   "execution_count": 889,
   "metadata": {},
   "outputs": [
    {
     "name": "stdout",
     "output_type": "stream",
     "text": [
      "The list_support_items is:  [0.8, 0.6, 0.6, 0.4, 0.4]\n"
     ]
    }
   ],
   "source": [
    "def items_support(item_list, transactions):\n",
    "    list_supp = []\n",
    "    for item in range(1, len(item_list) + 1):\n",
    "        support = get_support(transactions, {item})\n",
    "        list_supp.append(support)\n",
    "        list_supp.sort(key = None, reverse = True)  # Make sure that the list is sorted so we can take the highest item support to define minimum_support\n",
    "\n",
    "    return list_supp\n",
    "\n",
    "\n",
    "list_support_items = items_support(item_list, transactions)\n",
    "print(f\"The list_support_items is:  {list_support_items}\")"
   ]
  },
  {
   "cell_type": "code",
   "execution_count": 890,
   "metadata": {},
   "outputs": [
    {
     "name": "stdout",
     "output_type": "stream",
     "text": [
      "The number of interest items is:  2\n"
     ]
    }
   ],
   "source": [
    "def get_interest_items(item_list, transactions):\n",
    "    num_interest_items = len(transactions) / len(item_list)\n",
    "    num_interest_items = math.ceil(num_interest_items)    \n",
    "\n",
    "    return num_interest_items\n",
    "    \n",
    "\n",
    "interest_items = get_interest_items(item_list, transactions)\n",
    "print(f\"The number of interest items is:  {interest_items}\")"
   ]
  },
  {
   "cell_type": "code",
   "execution_count": 891,
   "metadata": {},
   "outputs": [],
   "source": [
    "def get_min_support(interest_items, list_support_items):\n",
    "    \"\"\"\n",
    "    This function aims to determine the minimum support value for the Apriori algorithm. It requires the following inputs:\n",
    "    - `interest_items`: A sorted list of item supports in ascending order.\n",
    "    - `list_support_items`: The number of items used to calculate the support.\n",
    "    - `start_index`: The starting index for selecting the first interest item.\n",
    "    \"\"\"\n",
    "    min_supp = 0\n",
    "\n",
    "    if list_support_items:\n",
    "\n",
    "       for index in range(interest_items):\n",
    "          min_supp += list_support_items[index]\n",
    "\n",
    "       min_supp = float(min_supp / interest_items )\n",
    "\n",
    "       return min_supp\n",
    "    else:\n",
    "       return print(\"No more items inside list_support_items\")\n",
    "    "
   ]
  },
  {
   "cell_type": "code",
   "execution_count": 892,
   "metadata": {},
   "outputs": [],
   "source": [
    "def apriori(min_support):\n",
    "    frequent_item_sets_per_level = defaultdict(list) #the problem is here try to fix it\n",
    "    # print(\"level : 1\", end = \" \")\n",
    "    dict_TID = {}\n",
    "    list_support_items = []\n",
    "    \n",
    "    for item in range(1, len(item_list) + 1):\n",
    "        support = get_support(transactions, {item})\n",
    "        dict_TID[item] = get_TID_item(transactions, {item})\n",
    "        if support >= min_support:\n",
    "            frequent_item_sets_per_level[1].append(({item}, support))\n",
    "    # print(\"Here is the dict_TID:\")\n",
    "    # print(dict_TID)   \n",
    "    print(\"Blablfjsdlj\")\n",
    "    print(frequent_item_sets_per_level)\n",
    "    \n",
    "    for level in range(2, len(item_list) + 1):\n",
    "        # print(level, end = \" \")\n",
    "        current_level_candidates = self_join(frequent_item_sets_per_level, level)\n",
    "\n",
    "        post_pruning_candidates = pruning(frequent_item_sets_per_level, level, current_level_candidates)\n",
    "        if len(post_pruning_candidates) == 0:\n",
    "            break\n",
    "        print(level)\n",
    "\n",
    "        for item_set in post_pruning_candidates:\n",
    "            list_item_set = list(item_set)\n",
    "\n",
    "            min_item = find_least_support(level, list_item_set, dict_TID, transactions)\n",
    "            # print(list_item_set)\n",
    "            # print(f\"Here you will find the min_item:  {min_item}\")\n",
    "\n",
    "            support = optimized_get_support(transactions, item_set, min_item, dict_TID)\n",
    "            # print(f\"The value of support of the item-set {item_set} is : {support}\")\n",
    "            if support >= min_support:\n",
    "                frequent_item_sets_per_level[level].append((item_set, support))\n",
    "                \n",
    "    print(\"2222222222222\")\n",
    "    print(frequent_item_sets_per_level)\n",
    "    return frequent_item_sets_per_level"
   ]
  },
  {
   "cell_type": "code",
   "execution_count": 893,
   "metadata": {},
   "outputs": [
    {
     "name": "stdout",
     "output_type": "stream",
     "text": [
      "The value of min_support is 0.3\n",
      "Blablfjsdlj\n",
      "{1: [({1}, 0.8)]}\n",
      "2222222222222\n",
      "{1: [({1}, 0.8)]}\n"
     ]
    }
   ],
   "source": [
    "start_index = 0\n",
    "min_support = 0.3\n",
    "\n",
    "print(f\"The value of min_support is {min_support}\")\n",
    "frequent_item_sets_per_level = apriori(min_support)"
   ]
  },
  {
   "cell_type": "code",
   "execution_count": 894,
   "metadata": {},
   "outputs": [
    {
     "name": "stdout",
     "output_type": "stream",
     "text": [
      "1\n"
     ]
    }
   ],
   "source": [
    "for level in frequent_item_sets_per_level:\n",
    "    print(len(frequent_item_sets_per_level[level]))"
   ]
  },
  {
   "cell_type": "code",
   "execution_count": 895,
   "metadata": {},
   "outputs": [
    {
     "name": "stdout",
     "output_type": "stream",
     "text": [
      "[({1}, 0.8)]\n"
     ]
    }
   ],
   "source": [
    "for level in frequent_item_sets_per_level:\n",
    "    print(frequent_item_sets_per_level[level])"
   ]
  },
  {
   "cell_type": "code",
   "execution_count": 896,
   "metadata": {},
   "outputs": [],
   "source": [
    "item_support_dict = dict()\n",
    "item_list = list()\n",
    "\n",
    "key_list = list(item_dict.keys())\n",
    "val_list = list(item_dict.values())\n",
    "\n",
    "for level in frequent_item_sets_per_level:\n",
    "    for set_support_pair in frequent_item_sets_per_level[level]:\n",
    "        for i in set_support_pair[0]:\n",
    "            item_list.append(key_list[val_list.index(i)])\n",
    "        item_support_dict[frozenset(item_list)] = set_support_pair[1]\n",
    "        item_list = list()"
   ]
  },
  {
   "cell_type": "code",
   "execution_count": 897,
   "metadata": {},
   "outputs": [
    {
     "data": {
      "text/plain": [
       "{frozenset({'handphone'}): 0.8}"
      ]
     },
     "execution_count": 897,
     "metadata": {},
     "output_type": "execute_result"
    }
   ],
   "source": [
    "item_support_dict"
   ]
  },
  {
   "cell_type": "code",
   "execution_count": 898,
   "metadata": {},
   "outputs": [],
   "source": [
    "def find_subset(item, item_length):\n",
    "    combs = []\n",
    "    for i in range(1, item_length + 1):\n",
    "        combs.append(list(combinations(item, i)))\n",
    "        \n",
    "    subsets = []\n",
    "    for comb in combs:\n",
    "        for elt in comb:\n",
    "            subsets.append(elt)\n",
    "            \n",
    "    return subsets"
   ]
  },
  {
   "cell_type": "code",
   "execution_count": 899,
   "metadata": {},
   "outputs": [],
   "source": [
    "def association_rule(min_confidence, support_dict):\n",
    "    rules = list()\n",
    "    for item, support in support_dict.items():\n",
    "        item_length = len(item)\n",
    "       \n",
    "        if item_length > 1:\n",
    "            subsets = find_subset(item, item_length)\n",
    "           \n",
    "            for A in subsets:\n",
    "                B = item.difference(A)\n",
    "               \n",
    "                if B:\n",
    "                    A = frozenset(A)\n",
    "                    \n",
    "                    AB = A | B\n",
    "                    \n",
    "                    confidence = support_dict[AB] / support_dict[A]\n",
    "                    lift = support_dict[AB] / (support_dict[A] * support_dict[B])\n",
    "                    print(f\"Value of lif for {A} and {B} is {lift}\")\n",
    "                    if confidence >= min_confidence and lift > 1:\n",
    "                        rules.append((A, B, confidence))\n",
    "    \n",
    "    return rules"
   ]
  },
  {
   "cell_type": "code",
   "execution_count": 900,
   "metadata": {},
   "outputs": [
    {
     "name": "stdout",
     "output_type": "stream",
     "text": [
      "Number of rules:  0 \n",
      "\n"
     ]
    }
   ],
   "source": [
    "min_confidence = 0.5\n",
    "\n",
    "association_rules = association_rule(min_confidence, item_support_dict)\n",
    "\n",
    "print(\"Number of rules: \", len(association_rules), \"\\n\")"
   ]
  },
  {
   "cell_type": "code",
   "execution_count": 901,
   "metadata": {},
   "outputs": [],
   "source": [
    "# is_optimal_min_supp = False\n",
    "# threshold = int(len(transactions) * 40 / 100)\n",
    "# print(f\"The value of Threshold is: {threshold}\")\n",
    "\n",
    "\n",
    "\n",
    "# if len(association_rules) > threshold:\n",
    "#     first_item = list_support_items[0]\n",
    "#     # list_support_items.pop(0)\n",
    "#     min_support = 0.5\n",
    "\n",
    "#     print(f\"start_index = {start_index}, The value of min_support is {min_support}\")\n",
    "#     frequent_item_sets = apriori(min_support)\n",
    "    \n",
    "#     print(frequent_item_sets)\n",
    "#     item_support_dict = dict()\n",
    "#     item_list = list()\n",
    "\n",
    "#     key_list = list(item_dict.keys())\n",
    "#     val_list = list(item_dict.values())\n",
    "\n",
    "#     for level in frequent_item_sets:\n",
    "#         for set_support_pair in frequent_item_sets[level]:\n",
    "#             for i in set_support_pair[0]:\n",
    "#                 item_list.append(key_list[val_list.index(i)])\n",
    "#             item_support_dict[frozenset(item_list)] = set_support_pair[1]\n",
    "#             item_list = list()\n",
    "#     # print(item_support_dict)\n",
    "    \n",
    "#     association_rules = association_rule(min_confidence, item_support_dict)\n",
    "#     print(\"Number of rules: \", len(association_rules), \"\\n\")\n",
    "\n",
    "# else:\n",
    "#     is_optimal_min_supp = True\n",
    "    \n",
    "\n",
    "    \n",
    "        "
   ]
  },
  {
   "cell_type": "code",
   "execution_count": 902,
   "metadata": {},
   "outputs": [
    {
     "name": "stdout",
     "output_type": "stream",
     "text": [
      "start_index = 0, The value of min_support is 0.5\n",
      "Blablfjsdlj\n",
      "{}\n",
      "2222222222222\n",
      "{}\n"
     ]
    },
    {
     "data": {
      "text/plain": [
       "{}"
      ]
     },
     "execution_count": 902,
     "metadata": {},
     "output_type": "execute_result"
    }
   ],
   "source": [
    "min_support = 0.5\n",
    "\n",
    "print(f\"start_index = {start_index}, The value of min_support is {min_support}\")\n",
    "frequent_item_sets = apriori(min_support)\n",
    "\n",
    "frequent_item_sets"
   ]
  },
  {
   "cell_type": "code",
   "execution_count": 903,
   "metadata": {},
   "outputs": [
    {
     "name": "stdout",
     "output_type": "stream",
     "text": [
      "Number of rules:  0 \n",
      "\n"
     ]
    }
   ],
   "source": [
    "print(\"Number of rules: \", len(association_rules), \"\\n\")\n",
    "\n",
    "for rule in association_rules:\n",
    "    print('{0} -> {1} <confidence: {2}>'.format(set(rule[0]), set(rule[1]), rule[2]))"
   ]
  }
 ],
 "metadata": {
  "kernelspec": {
   "display_name": "Python 3",
   "language": "python",
   "name": "python3"
  },
  "language_info": {
   "codemirror_mode": {
    "name": "ipython",
    "version": 3
   },
   "file_extension": ".py",
   "mimetype": "text/x-python",
   "name": "python",
   "nbconvert_exporter": "python",
   "pygments_lexer": "ipython3",
   "version": "3.8.2"
  }
 },
 "nbformat": 4,
 "nbformat_minor": 2
}
